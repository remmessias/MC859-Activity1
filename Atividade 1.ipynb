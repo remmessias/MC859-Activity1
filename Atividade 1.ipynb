{
 "cells": [
  {
   "cell_type": "markdown",
   "id": "829d24d5",
   "metadata": {},
   "source": [
    "# Atividade 1\n",
    "\n"
   ]
  },
  {
   "cell_type": "code",
   "execution_count": null,
   "id": "fea488cb",
   "metadata": {},
   "outputs": [],
   "source": [
    "# Bibliotecas utilizadas\n",
    "import secrets\n",
    "\n",
    "import gurobipy as gp\n",
    "from gurobipy import *"
   ]
  },
  {
   "cell_type": "code",
   "execution_count": null,
   "id": "30a8b57b",
   "metadata": {},
   "outputs": [],
   "source": [
    "#\n",
    "# Funções auxiliares\n",
    "#\n",
    "\n",
    "# Range inclusive\n",
    "def inclrange(min, max):\n",
    "    return range(min, max + 1)\n",
    "\n",
    "# Inteiro aleatório entre min e max inclusive\n",
    "def rand(min, max):\n",
    "    return min + secrets.randbelow(max - min + 1)\n"
   ]
  },
  {
   "cell_type": "markdown",
   "id": "e8bd7d8d",
   "metadata": {},
   "source": [
    "### Limites das variáveis das instâncias\n",
    "\n",
    "```\n",
    "|J| = {100, 200, 300, 400, 500, 600, 700, 800, 900, 1000}\n",
    "|F| ∈ [|J|, 2|J|]\n",
    "|L| ∈ [5, 10]\n",
    "|M| ∈ [5, 10]\n",
    "|P| ∈ [5, 10]\n",
    "D_j,p ∈ [10, 20]\n",
    "r_m,p,l ∈ [1, 5]\n",
    "R_m,f ∈ [800, 1000]\n",
    "C_l,f ∈ [80, 100]\n",
    "p_p,l,f ∈ [10, 100]\n",
    "t_p,f,j ∈ [10, 20]\n",
    "```"
   ]
  },
  {
   "cell_type": "code",
   "execution_count": null,
   "id": "9707f5fd",
   "metadata": {},
   "outputs": [],
   "source": [
    "#\n",
    "# Instâncias (dados utilizados, fixos enquanto o notebook está aberto)\n",
    "#\n",
    "# No futuro, imprimir esses valores e substituir a variável `instancias` para fixá-los para entrega da tarefa.\n",
    "#\n",
    "\n",
    "instancias = []\n",
    "\n",
    "for len_J in [100 * x for x in inclrange(1, 10)]:\n",
    "    J = [x for x in range(0, len_J)]  # conjunto de clientes\n",
    "    # Número de...\n",
    "    len_F = rand(len(J), 2 * len(J))\n",
    "    F = [x for x in range(0, len_F)]  # fábricas\n",
    "    \n",
    "    len_L = rand(5, 10)  \n",
    "    L = [x for x in range(0, len_L)]  # máquinas\n",
    "    \n",
    "    len_M = rand(5, 10)  \n",
    "    M = [x for x in range(0, len_M)]  # matérias primas\n",
    "    \n",
    "    len_P = rand(5, 10)\n",
    "    P = [x for x in range(0, len_P)]  # produtos\n",
    "    \n",
    "    D = []  # D_j,p: demanda de cliente j pelo produto p\n",
    "    for j in J:\n",
    "        D.append([])\n",
    "        for p in P:\n",
    "            D[j].append([])\n",
    "            D[j][p] = rand(10, 20)\n",
    "    \n",
    "    r = []  # r_m,p,l: quantidade de matéria prima m para produzir produto p na máquina l\n",
    "    for m in M:\n",
    "        r.append([])\n",
    "        for p in P:\n",
    "            r[m].append([])\n",
    "            for l in L:\n",
    "                r[m][p].append([])\n",
    "                r[m][p][l] = rand(1, 5)\n",
    "                \n",
    "    R = []  # R_m,f: quantidade de matéria prima m disponível na fábrica f\n",
    "    for m in M:\n",
    "        R.append([])\n",
    "        for f in F:\n",
    "            R[m].append([])\n",
    "            R[m][f] = rand(800, 1000)\n",
    "            \n",
    "    C = []  # C_l,f: capacidade de produção da máquina l na fábrica f\n",
    "    for l in L:\n",
    "        C.append([])\n",
    "        for f in F:\n",
    "            C[l].append([])\n",
    "            C[l][f] = rand(80, 100)\n",
    "            \n",
    "    cp = []  # p_p,l,f -> cp_p,l,f: custo de produção do produto p na máquina l na fábrica f\n",
    "    for p in P:\n",
    "        cp.append([])\n",
    "        for l in L:\n",
    "            cp[p].append([])\n",
    "            for f in F:\n",
    "                cp[p][l].append([])\n",
    "                cp[p][l][f] = rand(10, 100)\n",
    "    \n",
    "    ct = []  # t_p,f,j -> ct_p,f,j: custo de transporte do produto p da fábrica f ao consumidor j\n",
    "    for p in P:\n",
    "        ct.append([])\n",
    "        for f in F:\n",
    "            ct[p].append([])\n",
    "            for j in J:\n",
    "                ct[p][f].append([])\n",
    "                ct[p][f][j] = rand(10, 20)\n",
    "    \n",
    "    instancia = {\n",
    "        'J': J,\n",
    "        'F': F,\n",
    "        'L': L,\n",
    "        'M': M,\n",
    "        'P': P,\n",
    "        'D': D,\n",
    "        'r': r,\n",
    "        'R': R,\n",
    "        'C': C,\n",
    "        'cp': cp,\n",
    "        'ct': ct\n",
    "    }\n",
    "    instancias.append(instancia)\n",
    "    print(len(instancias), end = \", \")"
   ]
  },
  {
   "cell_type": "code",
   "execution_count": null,
   "id": "44cb93f5",
   "metadata": {},
   "outputs": [],
   "source": [
    "#\n",
    "# Executar solução\n",
    "#\n",
    "\n",
    "def solucionar(J, F, L, M, P, D, r, R, C, cp, ct):\n",
    "    # Criação do modelo\n",
    "    modelo = gp.Model(\"Atividade 1\")\n",
    "    modelo.setParam(GRB.Param.Method, 1)\n",
    "    modelo.setParam(GRB.Param.Threads, 1)\n",
    "\n",
    "    # Variáveis de decisão\n",
    "    tonelada_transportada = modelo.addVars(P, F, J, lb=0, vtype=GRB.CONTINUOUS)\n",
    "    tonelada_produzida = modelo.addVars(P, L, F, lb=0, vtype=GRB.CONTINUOUS)\n",
    "    custo = modelo.addVar(lb=0, vtype=GRB.CONTINUOUS)\n",
    "    \n",
    "    # Função objetivo\n",
    "    obj = quicksum(quicksum(quicksum(tonelada_produzida.sum(p,l,f) * cp[p][l][f] for p in P) for f in F) for l in L) + quicksum(quicksum(quicksum(tonelada_transportada.sum(p,f,j) * ct[p][f][j] for p in P) for f in F) for j in J)\n",
    "    modelo.setObjective(obj, GRB.MINIMIZE)\n",
    "    \n",
    "    modelo.setParam('TimeLimit',1800)\n",
    "        \n",
    "    for p in P:\n",
    "        for j in J:\n",
    "            modelo.addConstr(quicksum(tonelada_transportada.sum(p,f,j) for f in F) == D[j][p])\n",
    "            \n",
    "    for p in P:\n",
    "        for f in F:\n",
    "            modelo.addConstr(quicksum(tonelada_transportada.sum(p,f,j) for j in J) == quicksum(tonelada_produzida.sum(p,l,f) for l in L))\n",
    "    \n",
    "    for f in F:\n",
    "        for m in M:\n",
    "            modelo.addConstr(quicksum(quicksum(tonelada_produzida.sum(p,l,f) * r[m][p][l] for p in P) for l in L) <= R[m][f])\n",
    "            \n",
    "    for f in F:\n",
    "        for l in L:\n",
    "            modelo.addConstr(quicksum(tonelada_produzida.sum(p,l,f) for p in P) <= C[l][f])\n",
    "    \n",
    "    modelo.update()\n",
    "\n",
    "    modelo.write('atividade1{}clientes.lp'.format(len(J)))\n",
    "\n",
    "    modelo.optimize()\n",
    "    \n",
    "    if modelo.status == GRB.Status.OPTIMAL:\n",
    "        print('Solução ótima:')\n",
    "        print('Custo: {}'.format(modelo.objVal))\n",
    "\n",
    "        for p in P:\n",
    "            for l in L:\n",
    "                for f in F:\n",
    "                    if tonelada_produzida[p,l,f].X > 0.0:\n",
    "                        print('Quantidade do produto {} produzido pela máquina {} na fábrica {} : {}'.format(p,l,f,tonelada_produzida[p,l,f].X))\n",
    "\n",
    "        for p in P:\n",
    "            for f in F:\n",
    "                for j in J:\n",
    "                    if tonelada_transportada[p,f,j].X > 0.0:\n",
    "                        print('Quantidade do produto {} transportado da fábrica {} para o cliente {} : {}'.format(p,f,j,tonelada_transportada[p,f,j].X))\n",
    "\n",
    "        print('Solução Ótima Encontrada!')\n",
    "        print('Custo: {}'.format(modelo.objVal))\n",
    "    elif modelo.status == GRB.Status.TIME_LIMIT:\n",
    "        print('Não foi possível encontrar uma solução ótima. Tempo excedido.')\n",
    "        print('Custo: {}'.format(modelo.objVal))\n",
    "\n",
    "        for p in P:\n",
    "            for l in L:\n",
    "                for f in F:\n",
    "                    if tonelada_produzida[p,l,f].X > 0.0:\n",
    "                        print('Quantidade do produto {} produzido pela máquina {} na fábrica {} : {}'.format(p,l,f,tonelada_produzida[p,l,f].X))\n",
    "\n",
    "        for p in P:\n",
    "            for f in F:\n",
    "                for j in J:\n",
    "                    if tonelada_transportada[p,f,j].X > 0.0:\n",
    "                        print('Quantidade do produto {} transportado da fábrica {} para o cliente {} : {}'.format(p,f,j,tonelada_transportada[p,f,j].X))\n",
    "\n",
    "        print('Não foi possível encontrar uma solução ótima. Tempo excedido.')\n",
    "        print('Solução: ')\n",
    "        print('Custo: {}'.format(modelo.objVal))\n",
    "    elif modelo.status == GRB.Status.INFEASIBLE:\n",
    "        print('Não foi possível encontrar uma solução ótima. Status: Inviável.')\n",
    "    else:\n",
    "        print('Status do modelo: {}'.format(modelo.Status))"
   ]
  },
  {
   "cell_type": "code",
   "execution_count": null,
   "id": "d75d2560",
   "metadata": {
    "scrolled": true
   },
   "outputs": [],
   "source": [
    "solucionar(**instancias[0])"
   ]
  },
  {
   "cell_type": "code",
   "execution_count": null,
   "id": "eb1dc8eb",
   "metadata": {},
   "outputs": [],
   "source": [
    "solucionar(**instancias[1])"
   ]
  },
  {
   "cell_type": "code",
   "execution_count": null,
   "id": "3822bb10",
   "metadata": {},
   "outputs": [],
   "source": [
    "solucionar(**instancias[2])"
   ]
  },
  {
   "cell_type": "code",
   "execution_count": null,
   "id": "66c3d2ec",
   "metadata": {},
   "outputs": [],
   "source": [
    "solucionar(**instancias[3])"
   ]
  },
  {
   "cell_type": "code",
   "execution_count": null,
   "id": "64951521",
   "metadata": {},
   "outputs": [],
   "source": [
    "solucionar(**instancias[4])"
   ]
  },
  {
   "cell_type": "code",
   "execution_count": null,
   "id": "2578ccb2",
   "metadata": {},
   "outputs": [],
   "source": [
    "solucionar(**instancias[5])"
   ]
  },
  {
   "cell_type": "code",
   "execution_count": null,
   "id": "b88f614f",
   "metadata": {},
   "outputs": [],
   "source": [
    "solucionar(**instancias[6])"
   ]
  },
  {
   "cell_type": "code",
   "execution_count": null,
   "id": "b6ef89e0",
   "metadata": {},
   "outputs": [],
   "source": [
    "solucionar(**instancias[7])"
   ]
  },
  {
   "cell_type": "code",
   "execution_count": null,
   "id": "c82416db",
   "metadata": {},
   "outputs": [],
   "source": [
    "solucionar(**instancias[8])"
   ]
  },
  {
   "cell_type": "code",
   "execution_count": null,
   "id": "fcc334fb",
   "metadata": {},
   "outputs": [],
   "source": [
    "solucionar(**instancias[9])"
   ]
  },
  {
   "cell_type": "code",
   "execution_count": null,
   "id": "4887f511",
   "metadata": {},
   "outputs": [],
   "source": [
    "solucionar(**instancias[10])"
   ]
  },
  {
   "cell_type": "code",
   "execution_count": null,
   "id": "57898fd8",
   "metadata": {},
   "outputs": [],
   "source": []
  }
 ],
 "metadata": {
  "kernelspec": {
   "display_name": "Python 3 (ipykernel)",
   "language": "python",
   "name": "python3"
  },
  "language_info": {
   "codemirror_mode": {
    "name": "ipython",
    "version": 3
   },
   "file_extension": ".py",
   "mimetype": "text/x-python",
   "name": "python",
   "nbconvert_exporter": "python",
   "pygments_lexer": "ipython3",
   "version": "3.8.10"
  }
 },
 "nbformat": 4,
 "nbformat_minor": 5
}
